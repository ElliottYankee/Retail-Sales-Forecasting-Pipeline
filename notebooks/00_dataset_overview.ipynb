{
 "cells": [
  {
   "cell_type": "markdown",
   "id": "3ffd947c",
   "metadata": {},
   "source": [
    "# Dataset Exploration Overview \n",
    "Comprehensive analysis of retail inventory forecasting dataset\n",
    "\n",
    "## Importing pandas to load Retail Sales .csv file and explore data"
   ]
  },
  {
   "cell_type": "code",
   "execution_count": 108,
   "id": "7b13ef00",
   "metadata": {},
   "outputs": [],
   "source": [
    "import pandas as pd"
   ]
  },
  {
   "cell_type": "markdown",
   "id": "87ad4927",
   "metadata": {},
   "source": [
    "## Configuring display properties"
   ]
  },
  {
   "cell_type": "code",
   "execution_count": 109,
   "id": "c3319c46",
   "metadata": {},
   "outputs": [],
   "source": [
    "pd.set_option('display.max_columns', None)\n",
    "pd.set_option('display.max_rows', 100)"
   ]
  },
  {
   "cell_type": "markdown",
   "id": "8b130274",
   "metadata": {},
   "source": [
    "## Loading dataset into data frame for examination"
   ]
  },
  {
   "cell_type": "code",
   "execution_count": 110,
   "id": "11c6dc57",
   "metadata": {},
   "outputs": [],
   "source": [
    "df = pd.read_csv('../data/raw/retail_store_inventory.csv')"
   ]
  },
  {
   "cell_type": "markdown",
   "id": "77731075",
   "metadata": {},
   "source": [
    "## Key analysis points"
   ]
  },
  {
   "cell_type": "code",
   "execution_count": 111,
   "id": "86fe0696",
   "metadata": {},
   "outputs": [
    {
     "name": "stdout",
     "output_type": "stream",
     "text": [
      "Dataset shape: (73100, 15)\n",
      "Memory usage: 8.37 MB\n",
      "Column types:\n",
      "Date                   object\n",
      "Store ID               object\n",
      "Product ID             object\n",
      "Category               object\n",
      "Region                 object\n",
      "Inventory Level         int64\n",
      "Units Sold              int64\n",
      "Units Ordered           int64\n",
      "Demand Forecast       float64\n",
      "Price                 float64\n",
      "Discount                int64\n",
      "Weather Condition      object\n",
      "Holiday/Promotion       int64\n",
      "Competitor Pricing    float64\n",
      "Seasonality            object\n",
      "dtype: object\n",
      "\n",
      "\n",
      "Date range: 2022-01-01 to 2024-01-01\n",
      "Number of stores: 5\n",
      "Number of products: 20\n",
      "Product categories: ['Groceries' 'Toys' 'Electronics' 'Furniture' 'Clothing']\n",
      "Regions: ['North' 'South' 'West' 'East']\n",
      "Weather conditions: ['Rainy' 'Sunny' 'Cloudy' 'Snowy']\n",
      "Seasons: ['Autumn' 'Summer' 'Winter' 'Spring']\n"
     ]
    }
   ],
   "source": [
    "print(f\"Dataset shape: {df.shape}\")\n",
    "print(f\"Memory usage: {df.memory_usage().sum()/1024**2:.2f} MB\")\n",
    "print(f\"Column types:\\n{df.dtypes}\\n\\n\")\n",
    "print(f\"Date range: {df['Date'].min()} to {df['Date'].max()}\")\n",
    "print(f\"Number of stores: {df['Store ID'].nunique()}\")\n",
    "print(f\"Number of products: {df['Product ID'].nunique()}\")\n",
    "#print(f\"Number of Store-Product-Date combinations: {df[['Store ID', 'Product ID', 'Date']].nunique()}\")\n",
    "print(f\"Product categories: {df['Category'].unique()}\")\n",
    "print(f\"Regions: {df['Region'].unique()}\")\n",
    "print(f\"Weather conditions: {df['Weather Condition'].unique()}\")\n",
    "print(f\"Seasons: {df['Seasonality'].unique()}\")"
   ]
  },
  {
   "cell_type": "markdown",
   "id": "ef7330e8",
   "metadata": {},
   "source": [
    "## Data quality"
   ]
  },
  {
   "cell_type": "code",
   "execution_count": 116,
   "id": "030f070d",
   "metadata": {},
   "outputs": [
    {
     "name": "stdout",
     "output_type": "stream",
     "text": [
      "\n",
      "Number of missing values: 0\n",
      "Number of duplicated values: 0\n",
      "No date gaps detected - continuous daily data\n"
     ]
    }
   ],
   "source": [
    "print(f\"\\nNumber of missing values: {df.isnull().sum().sum()}\")\n",
    "print(f\"Number of duplicated values: {df.duplicated().sum()}\")\n",
    "\n",
    "df['Date'] = pd.to_datetime(df['Date'])\n",
    "df_sorted = df.sort_values('Date')\n",
    "date_diff = df_sorted['Date'].diff()\n",
    "gaps = date_diff[date_diff > pd.Timedelta(days=1)]\n",
    "\n",
    "if len(gaps) > 0:\n",
    "    print(f\"Date gaps found: {len(gaps)} instances\")\n",
    "    print(\"Largest gaps:\")\n",
    "    print(gaps.sort_values(ascending=False).head())\n",
    "else:\n",
    "    print(\"No date gaps detected - continuous daily data\")"
   ]
  },
  {
   "cell_type": "markdown",
   "id": "c6b0fd22",
   "metadata": {},
   "source": [
    "## Sales analysis by day-of-the-week"
   ]
  },
  {
   "cell_type": "code",
   "execution_count": 132,
   "id": "0084ea2d",
   "metadata": {},
   "outputs": [
    {
     "name": "stdout",
     "output_type": "stream",
     "text": [
      "Unique weeks in dataset: 106\n",
      "\n",
      "Records per day of week:\n",
      "Day of Week\n",
      "Monday       10500\n",
      "Tuesday      10400\n",
      "Wednesday    10400\n",
      "Thursday     10400\n",
      "Friday       10400\n",
      "Saturday     10500\n",
      "Sunday       10500\n",
      "Name: count, dtype: int64\n",
      "\n",
      "Total and average sales by day of week:\n",
      "                 sum    mean\n",
      "Day of Week                 \n",
      "Monday       1418494  135.09\n",
      "Tuesday      1428000  137.31\n",
      "Wednesday    1420797  136.62\n",
      "Thursday     1427732  137.28\n",
      "Friday       1423255  136.85\n",
      "Saturday     1420802  135.31\n",
      "Sunday       1436502  136.81\n"
     ]
    }
   ],
   "source": [
    "df['Day of Week'] = df['Date'].dt.day_name()\n",
    "day_order = ['Monday', 'Tuesday', 'Wednesday', 'Thursday', 'Friday', 'Saturday', 'Sunday']\n",
    "\n",
    "print(f\"Unique weeks in dataset: {df['Date'].dt.to_period('W').nunique()}\")\n",
    "print(\"\\nRecords per day of week:\")\n",
    "# Reorder by actual day of week\n",
    "print(df['Day of Week'].value_counts().reindex(day_order))\n",
    "\n",
    "print(\"\\nTotal and average sales by day of week:\")\n",
    "dow_sales = df.groupby('Day of Week')['Units Sold'].agg(['sum', 'mean']).round(2)\n",
    "# Reorder by actual day of week\n",
    "dow_sales = dow_sales.reindex(day_order)\n",
    "print(dow_sales)"
   ]
  },
  {
   "cell_type": "markdown",
   "id": "4d0b48be",
   "metadata": {},
   "source": [
    "## Sales analysis by month"
   ]
  },
  {
   "cell_type": "code",
   "execution_count": 133,
   "id": "278323c6",
   "metadata": {},
   "outputs": [
    {
     "name": "stdout",
     "output_type": "stream",
     "text": [
      "Unique months in dataset: 25\n",
      "\n",
      "Records per month:\n",
      "Month\n",
      "January      6300\n",
      "February     5600\n",
      "March        6200\n",
      "April        6000\n",
      "May          6200\n",
      "June         6000\n",
      "July         6200\n",
      "August       6200\n",
      "September    6000\n",
      "October      6200\n",
      "November     6000\n",
      "December     6200\n",
      "Name: count, dtype: int64\n",
      "\n",
      "Total and average sales by month:\n",
      "              sum    mean\n",
      "Month                    \n",
      "January    856590  135.97\n",
      "February   776220  138.61\n",
      "March      842595  135.90\n",
      "April      808457  134.74\n",
      "May        833472  134.43\n",
      "June       821150  136.86\n",
      "July       864547  139.44\n",
      "August     841417  135.71\n",
      "September  816971  136.16\n",
      "October    852509  137.50\n",
      "November   830661  138.44\n",
      "December   830993  134.03\n"
     ]
    }
   ],
   "source": [
    "df['Month'] = df['Date'].dt.month_name()\n",
    "month_order = ['January', 'February', 'March', 'April', 'May', 'June', 'July', 'August', 'September', 'October', 'November', 'December']\n",
    "\n",
    "print(f\"Unique months in dataset: {df['Date'].dt.to_period('M').nunique()}\")\n",
    "\n",
    "print(\"\\nRecords per month:\")\n",
    "# Reorder by actual month order\n",
    "print(df['Month'].value_counts().reindex(month_order))\n",
    "\n",
    "print(\"\\nTotal and average sales by month:\")  \n",
    "month_sales = df.groupby('Month')['Units Sold'].agg(['sum', 'mean']).round(2)\n",
    "# Reorder by actual month order\n",
    "month_sales = month_sales.reindex(month_order)\n",
    "print(month_sales)\n"
   ]
  },
  {
   "cell_type": "markdown",
   "id": "e915a121",
   "metadata": {},
   "source": [
    "## External Factor Analysis"
   ]
  },
  {
   "cell_type": "code",
   "execution_count": 134,
   "id": "e8d80f3d",
   "metadata": {},
   "outputs": [
    {
     "name": "stdout",
     "output_type": "stream",
     "text": [
      "Weather condition occurrence count:\n",
      "Weather Condition\n",
      "Sunny     18290\n",
      "Rainy     18278\n",
      "Snowy     18272\n",
      "Cloudy    18260\n",
      "Name: count, dtype: int64\n",
      "\n",
      "Average sales by weather condition:\n",
      "                     mean     std\n",
      "Weather Condition                \n",
      "Cloudy             136.76  108.33\n",
      "Rainy              135.16  107.92\n",
      "Snowy              135.91  109.38\n",
      "Sunny              138.03  110.02\n",
      "\n",
      "Holiday/Promotion impact:\n",
      "                   count    mean     std\n",
      "Holiday/Promotion                       \n",
      "0                  36747  136.51  109.28\n",
      "1                  36353  136.42  108.56\n"
     ]
    }
   ],
   "source": [
    "\n",
    "print(\"Weather condition occurrence count:\")\n",
    "print(df['Weather Condition'].value_counts())\n",
    "\n",
    "print(\"\\nAverage sales by weather condition:\")\n",
    "weather_impact = df.groupby('Weather Condition')['Units Sold'].agg(['mean', 'std']).round(2)\n",
    "print(weather_impact)\n",
    "\n",
    "\n",
    "holiday_col = [col for col in df.columns if 'holiday' in col.lower() or 'promotion' in col.lower()]\n",
    "if holiday_col:\n",
    "    col_name = holiday_col[0]\n",
    "    print(f\"\\n{col_name} impact:\")\n",
    "    print(df.groupby(col_name)['Units Sold'].agg(['count', 'mean', 'std']).round(2))\n"
   ]
  },
  {
   "cell_type": "markdown",
   "id": "bb010bc7",
   "metadata": {},
   "source": [
    "## First 5 rows of dataset"
   ]
  },
  {
   "cell_type": "code",
   "execution_count": 135,
   "id": "bd8d88fb",
   "metadata": {},
   "outputs": [
    {
     "data": {
      "text/html": [
       "<div>\n",
       "<style scoped>\n",
       "    .dataframe tbody tr th:only-of-type {\n",
       "        vertical-align: middle;\n",
       "    }\n",
       "\n",
       "    .dataframe tbody tr th {\n",
       "        vertical-align: top;\n",
       "    }\n",
       "\n",
       "    .dataframe thead th {\n",
       "        text-align: right;\n",
       "    }\n",
       "</style>\n",
       "<table border=\"1\" class=\"dataframe\">\n",
       "  <thead>\n",
       "    <tr style=\"text-align: right;\">\n",
       "      <th></th>\n",
       "      <th>Date</th>\n",
       "      <th>Store ID</th>\n",
       "      <th>Product ID</th>\n",
       "      <th>Category</th>\n",
       "      <th>Region</th>\n",
       "      <th>Inventory Level</th>\n",
       "      <th>Units Sold</th>\n",
       "      <th>Units Ordered</th>\n",
       "      <th>Demand Forecast</th>\n",
       "      <th>Price</th>\n",
       "      <th>Discount</th>\n",
       "      <th>Weather Condition</th>\n",
       "      <th>Holiday/Promotion</th>\n",
       "      <th>Competitor Pricing</th>\n",
       "      <th>Seasonality</th>\n",
       "      <th>Day_of_Week</th>\n",
       "      <th>Month</th>\n",
       "      <th>Day of Week</th>\n",
       "    </tr>\n",
       "  </thead>\n",
       "  <tbody>\n",
       "    <tr>\n",
       "      <th>0</th>\n",
       "      <td>2022-01-01</td>\n",
       "      <td>S001</td>\n",
       "      <td>P0001</td>\n",
       "      <td>Groceries</td>\n",
       "      <td>North</td>\n",
       "      <td>231</td>\n",
       "      <td>127</td>\n",
       "      <td>55</td>\n",
       "      <td>135.47</td>\n",
       "      <td>33.50</td>\n",
       "      <td>20</td>\n",
       "      <td>Rainy</td>\n",
       "      <td>0</td>\n",
       "      <td>29.69</td>\n",
       "      <td>Autumn</td>\n",
       "      <td>Saturday</td>\n",
       "      <td>January</td>\n",
       "      <td>Saturday</td>\n",
       "    </tr>\n",
       "    <tr>\n",
       "      <th>1</th>\n",
       "      <td>2022-01-01</td>\n",
       "      <td>S001</td>\n",
       "      <td>P0002</td>\n",
       "      <td>Toys</td>\n",
       "      <td>South</td>\n",
       "      <td>204</td>\n",
       "      <td>150</td>\n",
       "      <td>66</td>\n",
       "      <td>144.04</td>\n",
       "      <td>63.01</td>\n",
       "      <td>20</td>\n",
       "      <td>Sunny</td>\n",
       "      <td>0</td>\n",
       "      <td>66.16</td>\n",
       "      <td>Autumn</td>\n",
       "      <td>Saturday</td>\n",
       "      <td>January</td>\n",
       "      <td>Saturday</td>\n",
       "    </tr>\n",
       "    <tr>\n",
       "      <th>2</th>\n",
       "      <td>2022-01-01</td>\n",
       "      <td>S001</td>\n",
       "      <td>P0003</td>\n",
       "      <td>Toys</td>\n",
       "      <td>West</td>\n",
       "      <td>102</td>\n",
       "      <td>65</td>\n",
       "      <td>51</td>\n",
       "      <td>74.02</td>\n",
       "      <td>27.99</td>\n",
       "      <td>10</td>\n",
       "      <td>Sunny</td>\n",
       "      <td>1</td>\n",
       "      <td>31.32</td>\n",
       "      <td>Summer</td>\n",
       "      <td>Saturday</td>\n",
       "      <td>January</td>\n",
       "      <td>Saturday</td>\n",
       "    </tr>\n",
       "    <tr>\n",
       "      <th>3</th>\n",
       "      <td>2022-01-01</td>\n",
       "      <td>S001</td>\n",
       "      <td>P0004</td>\n",
       "      <td>Toys</td>\n",
       "      <td>North</td>\n",
       "      <td>469</td>\n",
       "      <td>61</td>\n",
       "      <td>164</td>\n",
       "      <td>62.18</td>\n",
       "      <td>32.72</td>\n",
       "      <td>10</td>\n",
       "      <td>Cloudy</td>\n",
       "      <td>1</td>\n",
       "      <td>34.74</td>\n",
       "      <td>Autumn</td>\n",
       "      <td>Saturday</td>\n",
       "      <td>January</td>\n",
       "      <td>Saturday</td>\n",
       "    </tr>\n",
       "    <tr>\n",
       "      <th>4</th>\n",
       "      <td>2022-01-01</td>\n",
       "      <td>S001</td>\n",
       "      <td>P0005</td>\n",
       "      <td>Electronics</td>\n",
       "      <td>East</td>\n",
       "      <td>166</td>\n",
       "      <td>14</td>\n",
       "      <td>135</td>\n",
       "      <td>9.26</td>\n",
       "      <td>73.64</td>\n",
       "      <td>0</td>\n",
       "      <td>Sunny</td>\n",
       "      <td>0</td>\n",
       "      <td>68.95</td>\n",
       "      <td>Summer</td>\n",
       "      <td>Saturday</td>\n",
       "      <td>January</td>\n",
       "      <td>Saturday</td>\n",
       "    </tr>\n",
       "  </tbody>\n",
       "</table>\n",
       "</div>"
      ],
      "text/plain": [
       "        Date Store ID Product ID     Category Region  Inventory Level  \\\n",
       "0 2022-01-01     S001      P0001    Groceries  North              231   \n",
       "1 2022-01-01     S001      P0002         Toys  South              204   \n",
       "2 2022-01-01     S001      P0003         Toys   West              102   \n",
       "3 2022-01-01     S001      P0004         Toys  North              469   \n",
       "4 2022-01-01     S001      P0005  Electronics   East              166   \n",
       "\n",
       "   Units Sold  Units Ordered  Demand Forecast  Price  Discount  \\\n",
       "0         127             55           135.47  33.50        20   \n",
       "1         150             66           144.04  63.01        20   \n",
       "2          65             51            74.02  27.99        10   \n",
       "3          61            164            62.18  32.72        10   \n",
       "4          14            135             9.26  73.64         0   \n",
       "\n",
       "  Weather Condition  Holiday/Promotion  Competitor Pricing Seasonality  \\\n",
       "0             Rainy                  0               29.69      Autumn   \n",
       "1             Sunny                  0               66.16      Autumn   \n",
       "2             Sunny                  1               31.32      Summer   \n",
       "3            Cloudy                  1               34.74      Autumn   \n",
       "4             Sunny                  0               68.95      Summer   \n",
       "\n",
       "  Day_of_Week    Month Day of Week  \n",
       "0    Saturday  January    Saturday  \n",
       "1    Saturday  January    Saturday  \n",
       "2    Saturday  January    Saturday  \n",
       "3    Saturday  January    Saturday  \n",
       "4    Saturday  January    Saturday  "
      ]
     },
     "execution_count": 135,
     "metadata": {},
     "output_type": "execute_result"
    }
   ],
   "source": [
    "df.head(5)"
   ]
  }
 ],
 "metadata": {
  "kernelspec": {
   "display_name": "Python 3",
   "language": "python",
   "name": "python3"
  },
  "language_info": {
   "codemirror_mode": {
    "name": "ipython",
    "version": 3
   },
   "file_extension": ".py",
   "mimetype": "text/x-python",
   "name": "python",
   "nbconvert_exporter": "python",
   "pygments_lexer": "ipython3",
   "version": "3.12.5"
  }
 },
 "nbformat": 4,
 "nbformat_minor": 5
}
