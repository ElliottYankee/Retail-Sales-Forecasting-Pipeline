{
 "cells": [
  {
   "cell_type": "markdown",
   "id": "3ffd947c",
   "metadata": {},
   "source": [
    "# Dataset Exploration Overview \n",
    "Comprehensive analysis of retail inventory forecasting dataset\n",
    "\n",
    "## Importing pandas to load Retail Sales .csv file and explore data"
   ]
  },
  {
   "cell_type": "code",
   "execution_count": 57,
   "id": "7b13ef00",
   "metadata": {},
   "outputs": [],
   "source": [
    "import pandas as pd"
   ]
  },
  {
   "cell_type": "markdown",
   "id": "87ad4927",
   "metadata": {},
   "source": [
    "## Configuring display properties"
   ]
  },
  {
   "cell_type": "code",
   "execution_count": 58,
   "id": "c3319c46",
   "metadata": {},
   "outputs": [],
   "source": [
    "pd.set_option('display.max_columns', None)\n",
    "pd.set_option('display.max_rows', 100)"
   ]
  },
  {
   "cell_type": "markdown",
   "id": "8b130274",
   "metadata": {},
   "source": [
    "## Loading dataset into data frame for examination"
   ]
  },
  {
   "cell_type": "code",
   "execution_count": 59,
   "id": "11c6dc57",
   "metadata": {},
   "outputs": [],
   "source": [
    "df = pd.read_csv('../data/raw/retail_store_inventory.csv')"
   ]
  },
  {
   "cell_type": "markdown",
   "id": "77731075",
   "metadata": {},
   "source": [
    "## Key analysis points"
   ]
  },
  {
   "cell_type": "code",
   "execution_count": 76,
   "id": "86fe0696",
   "metadata": {},
   "outputs": [
    {
     "name": "stdout",
     "output_type": "stream",
     "text": [
      "Dataset shape: (73100, 15)\n",
      "Memory usage: 8.37 MB\n",
      "Column types:\n",
      "Date                   object\n",
      "Store ID               object\n",
      "Product ID             object\n",
      "Category               object\n",
      "Region                 object\n",
      "Inventory Level         int64\n",
      "Units Sold              int64\n",
      "Units Ordered           int64\n",
      "Demand Forecast       float64\n",
      "Price                 float64\n",
      "Discount                int64\n",
      "Weather Condition      object\n",
      "Holiday/Promotion       int64\n",
      "Competitor Pricing    float64\n",
      "Seasonality            object\n",
      "dtype: object\n",
      "\n",
      "\n",
      "Date range: 2022-01-01 to 2024-01-01\n",
      "Number of stores: 5\n",
      "Number of products: 20\n",
      "Product categories: ['Groceries' 'Toys' 'Electronics' 'Furniture' 'Clothing']\n",
      "Regions: ['North' 'South' 'West' 'East']\n",
      "Weather conditions: ['Rainy' 'Sunny' 'Cloudy' 'Snowy']\n",
      "Seasons: ['Autumn' 'Summer' 'Winter' 'Spring']\n"
     ]
    }
   ],
   "source": [
    "print(f\"Dataset shape: {df.shape}\")\n",
    "print(f\"Memory usage: {df.memory_usage().sum()/1024**2:.2f} MB\")\n",
    "print(f\"Column types:\\n{df.dtypes}\\n\\n\")\n",
    "print(f\"Date range: {df['Date'].min()} to {df['Date'].max()}\")\n",
    "print(f\"Number of stores: {df['Store ID'].nunique()}\")\n",
    "print(f\"Number of products: {df['Product ID'].nunique()}\")\n",
    "#print(f\"Number of Store-Product-Date combinations: {df[['Store ID', 'Product ID', 'Date']].nunique()}\")\n",
    "print(f\"Product categories: {df['Category'].unique()}\")\n",
    "print(f\"Regions: {df['Region'].unique()}\")\n",
    "print(f\"Weather conditions: {df['Weather Condition'].unique()}\")\n",
    "print(f\"Seasons: {df['Seasonality'].unique()}\")"
   ]
  },
  {
   "cell_type": "markdown",
   "id": "ef7330e8",
   "metadata": {},
   "source": [
    "## Data quality"
   ]
  },
  {
   "cell_type": "code",
   "execution_count": 77,
   "id": "030f070d",
   "metadata": {},
   "outputs": [
    {
     "name": "stdout",
     "output_type": "stream",
     "text": [
      "\n",
      "Number of missing values: 0\n",
      "Number of duplicated values: 0\n"
     ]
    }
   ],
   "source": [
    "print(f\"\\nNumber of missing values: {df.isnull().sum().sum()}\")\n",
    "print(f\"Number of duplicated values: {df.duplicated().sum()}\")"
   ]
  },
  {
   "cell_type": "markdown",
   "id": "9d4e9539",
   "metadata": {},
   "source": [
    "## Date continuity"
   ]
  },
  {
   "cell_type": "code",
   "execution_count": 91,
   "id": "3ffe23be",
   "metadata": {},
   "outputs": [
    {
     "name": "stdout",
     "output_type": "stream",
     "text": [
      "No date gaps detected - continuous daily data\n"
     ]
    }
   ],
   "source": [
    "df['Date'] = pd.to_datetime(df['Date'])\n",
    "df_sorted = df.sort_values('Date')\n",
    "date_diff = df_sorted['Date'].diff()\n",
    "gaps = date_diff[date_diff > pd.Timedelta(days=1)]\n",
    "\n",
    "if len(gaps) > 0:\n",
    "    print(f\"Date gaps found: {len(gaps)} instances\")\n",
    "    print(\"Largest gaps:\")\n",
    "    print(gaps.sort_values(ascending=False).head())\n",
    "else:\n",
    "    print(\"No date gaps detected - continuous daily data\")"
   ]
  },
  {
   "cell_type": "markdown",
   "id": "bb010bc7",
   "metadata": {},
   "source": [
    "## First 5 rows of dataset"
   ]
  },
  {
   "cell_type": "code",
   "execution_count": 92,
   "id": "bd8d88fb",
   "metadata": {},
   "outputs": [
    {
     "data": {
      "text/html": [
       "<div>\n",
       "<style scoped>\n",
       "    .dataframe tbody tr th:only-of-type {\n",
       "        vertical-align: middle;\n",
       "    }\n",
       "\n",
       "    .dataframe tbody tr th {\n",
       "        vertical-align: top;\n",
       "    }\n",
       "\n",
       "    .dataframe thead th {\n",
       "        text-align: right;\n",
       "    }\n",
       "</style>\n",
       "<table border=\"1\" class=\"dataframe\">\n",
       "  <thead>\n",
       "    <tr style=\"text-align: right;\">\n",
       "      <th></th>\n",
       "      <th>Date</th>\n",
       "      <th>Store ID</th>\n",
       "      <th>Product ID</th>\n",
       "      <th>Category</th>\n",
       "      <th>Region</th>\n",
       "      <th>Inventory Level</th>\n",
       "      <th>Units Sold</th>\n",
       "      <th>Units Ordered</th>\n",
       "      <th>Demand Forecast</th>\n",
       "      <th>Price</th>\n",
       "      <th>Discount</th>\n",
       "      <th>Weather Condition</th>\n",
       "      <th>Holiday/Promotion</th>\n",
       "      <th>Competitor Pricing</th>\n",
       "      <th>Seasonality</th>\n",
       "      <th>Day_of_Week</th>\n",
       "      <th>Month</th>\n",
       "    </tr>\n",
       "  </thead>\n",
       "  <tbody>\n",
       "    <tr>\n",
       "      <th>0</th>\n",
       "      <td>2022-01-01</td>\n",
       "      <td>S001</td>\n",
       "      <td>P0001</td>\n",
       "      <td>Groceries</td>\n",
       "      <td>North</td>\n",
       "      <td>231</td>\n",
       "      <td>127</td>\n",
       "      <td>55</td>\n",
       "      <td>135.47</td>\n",
       "      <td>33.50</td>\n",
       "      <td>20</td>\n",
       "      <td>Rainy</td>\n",
       "      <td>0</td>\n",
       "      <td>29.69</td>\n",
       "      <td>Autumn</td>\n",
       "      <td>Saturday</td>\n",
       "      <td>January</td>\n",
       "    </tr>\n",
       "    <tr>\n",
       "      <th>1</th>\n",
       "      <td>2022-01-01</td>\n",
       "      <td>S001</td>\n",
       "      <td>P0002</td>\n",
       "      <td>Toys</td>\n",
       "      <td>South</td>\n",
       "      <td>204</td>\n",
       "      <td>150</td>\n",
       "      <td>66</td>\n",
       "      <td>144.04</td>\n",
       "      <td>63.01</td>\n",
       "      <td>20</td>\n",
       "      <td>Sunny</td>\n",
       "      <td>0</td>\n",
       "      <td>66.16</td>\n",
       "      <td>Autumn</td>\n",
       "      <td>Saturday</td>\n",
       "      <td>January</td>\n",
       "    </tr>\n",
       "    <tr>\n",
       "      <th>2</th>\n",
       "      <td>2022-01-01</td>\n",
       "      <td>S001</td>\n",
       "      <td>P0003</td>\n",
       "      <td>Toys</td>\n",
       "      <td>West</td>\n",
       "      <td>102</td>\n",
       "      <td>65</td>\n",
       "      <td>51</td>\n",
       "      <td>74.02</td>\n",
       "      <td>27.99</td>\n",
       "      <td>10</td>\n",
       "      <td>Sunny</td>\n",
       "      <td>1</td>\n",
       "      <td>31.32</td>\n",
       "      <td>Summer</td>\n",
       "      <td>Saturday</td>\n",
       "      <td>January</td>\n",
       "    </tr>\n",
       "    <tr>\n",
       "      <th>3</th>\n",
       "      <td>2022-01-01</td>\n",
       "      <td>S001</td>\n",
       "      <td>P0004</td>\n",
       "      <td>Toys</td>\n",
       "      <td>North</td>\n",
       "      <td>469</td>\n",
       "      <td>61</td>\n",
       "      <td>164</td>\n",
       "      <td>62.18</td>\n",
       "      <td>32.72</td>\n",
       "      <td>10</td>\n",
       "      <td>Cloudy</td>\n",
       "      <td>1</td>\n",
       "      <td>34.74</td>\n",
       "      <td>Autumn</td>\n",
       "      <td>Saturday</td>\n",
       "      <td>January</td>\n",
       "    </tr>\n",
       "    <tr>\n",
       "      <th>4</th>\n",
       "      <td>2022-01-01</td>\n",
       "      <td>S001</td>\n",
       "      <td>P0005</td>\n",
       "      <td>Electronics</td>\n",
       "      <td>East</td>\n",
       "      <td>166</td>\n",
       "      <td>14</td>\n",
       "      <td>135</td>\n",
       "      <td>9.26</td>\n",
       "      <td>73.64</td>\n",
       "      <td>0</td>\n",
       "      <td>Sunny</td>\n",
       "      <td>0</td>\n",
       "      <td>68.95</td>\n",
       "      <td>Summer</td>\n",
       "      <td>Saturday</td>\n",
       "      <td>January</td>\n",
       "    </tr>\n",
       "  </tbody>\n",
       "</table>\n",
       "</div>"
      ],
      "text/plain": [
       "        Date Store ID Product ID     Category Region  Inventory Level  \\\n",
       "0 2022-01-01     S001      P0001    Groceries  North              231   \n",
       "1 2022-01-01     S001      P0002         Toys  South              204   \n",
       "2 2022-01-01     S001      P0003         Toys   West              102   \n",
       "3 2022-01-01     S001      P0004         Toys  North              469   \n",
       "4 2022-01-01     S001      P0005  Electronics   East              166   \n",
       "\n",
       "   Units Sold  Units Ordered  Demand Forecast  Price  Discount  \\\n",
       "0         127             55           135.47  33.50        20   \n",
       "1         150             66           144.04  63.01        20   \n",
       "2          65             51            74.02  27.99        10   \n",
       "3          61            164            62.18  32.72        10   \n",
       "4          14            135             9.26  73.64         0   \n",
       "\n",
       "  Weather Condition  Holiday/Promotion  Competitor Pricing Seasonality  \\\n",
       "0             Rainy                  0               29.69      Autumn   \n",
       "1             Sunny                  0               66.16      Autumn   \n",
       "2             Sunny                  1               31.32      Summer   \n",
       "3            Cloudy                  1               34.74      Autumn   \n",
       "4             Sunny                  0               68.95      Summer   \n",
       "\n",
       "  Day_of_Week    Month  \n",
       "0    Saturday  January  \n",
       "1    Saturday  January  \n",
       "2    Saturday  January  \n",
       "3    Saturday  January  \n",
       "4    Saturday  January  "
      ]
     },
     "execution_count": 92,
     "metadata": {},
     "output_type": "execute_result"
    }
   ],
   "source": [
    "df.head(5)"
   ]
  }
 ],
 "metadata": {
  "kernelspec": {
   "display_name": "Python 3",
   "language": "python",
   "name": "python3"
  },
  "language_info": {
   "codemirror_mode": {
    "name": "ipython",
    "version": 3
   },
   "file_extension": ".py",
   "mimetype": "text/x-python",
   "name": "python",
   "nbconvert_exporter": "python",
   "pygments_lexer": "ipython3",
   "version": "3.12.5"
  }
 },
 "nbformat": 4,
 "nbformat_minor": 5
}
