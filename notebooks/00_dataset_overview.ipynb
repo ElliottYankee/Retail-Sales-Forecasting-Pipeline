{
 "cells": [
  {
   "cell_type": "markdown",
   "id": "3ffd947c",
   "metadata": {},
   "source": [
    "# Dataset Exploration Overview \n",
    "Comprehensive analysis of retail inventory forecasting dataset\n",
    "\n",
    "## Importing pandas to load Retail Sales .csv file and explore data"
   ]
  },
  {
   "cell_type": "code",
   "execution_count": 57,
   "id": "7b13ef00",
   "metadata": {},
   "outputs": [],
   "source": [
    "import pandas as pd"
   ]
  },
  {
   "cell_type": "markdown",
   "id": "87ad4927",
   "metadata": {},
   "source": [
    "## Configuring display properties"
   ]
  },
  {
   "cell_type": "code",
   "execution_count": 58,
   "id": "c3319c46",
   "metadata": {},
   "outputs": [],
   "source": [
    "pd.set_option('display.max_columns', None)\n",
    "pd.set_option('display.max_rows', 100)"
   ]
  },
  {
   "cell_type": "markdown",
   "id": "8b130274",
   "metadata": {},
   "source": [
    "## Loading dataset into data frame for examination"
   ]
  },
  {
   "cell_type": "code",
   "execution_count": 59,
   "id": "11c6dc57",
   "metadata": {},
   "outputs": [],
   "source": [
    "df = pd.read_csv('../data/raw/retail_store_inventory.csv')"
   ]
  },
  {
   "cell_type": "markdown",
   "id": "77731075",
   "metadata": {},
   "source": [
    "## Key analysis points"
   ]
  },
  {
   "cell_type": "code",
   "execution_count": 60,
   "id": "86fe0696",
   "metadata": {},
   "outputs": [
    {
     "name": "stdout",
     "output_type": "stream",
     "text": [
      "Dataset shape: (73100, 15)\n",
      "Memory usage: 8.37 MB\n",
      "Column types:\n",
      "Date                   object\n",
      "Store ID               object\n",
      "Product ID             object\n",
      "Category               object\n",
      "Region                 object\n",
      "Inventory Level         int64\n",
      "Units Sold              int64\n",
      "Units Ordered           int64\n",
      "Demand Forecast       float64\n",
      "Price                 float64\n",
      "Discount                int64\n",
      "Weather Condition      object\n",
      "Holiday/Promotion       int64\n",
      "Competitor Pricing    float64\n",
      "Seasonality            object\n",
      "dtype: object\n",
      "\n",
      "\n",
      "Date range: 2022-01-01 to 2024-01-01\n",
      "Number of stores: 5\n",
      "Number of products: 20\n",
      "Product categories: ['Groceries' 'Toys' 'Electronics' 'Furniture' 'Clothing']\n",
      "Regions: ['North' 'South' 'West' 'East']\n"
     ]
    }
   ],
   "source": [
    "print(f\"Dataset shape: {df.shape}\")\n",
    "print(f\"Memory usage: {df.memory_usage().sum()/1024**2:.2f} MB\")\n",
    "print(f\"Column types:\\n{df.dtypes}\\n\\n\")\n",
    "print(f\"Date range: {df['Date'].min()} to {df['Date'].max()}\")\n",
    "print(f\"Number of stores: {df['Store ID'].nunique()}\")\n",
    "print(f\"Number of products: {df['Product ID'].nunique()}\")\n",
    "#print(f\"Number of Store-Product-Date combinations: {df[['Store ID', 'Product ID', 'Date']].nunique()}\")\n",
    "print(f\"Product categories: {df['Category'].unique()}\")\n",
    "print(f\"Regions: {df['Region'].unique()}\")\n",
    "#print(f\"First 5 rows:\\n{df.head}\")"
   ]
  },
  {
   "cell_type": "markdown",
   "id": "ef7330e8",
   "metadata": {},
   "source": [
    "## Data quality"
   ]
  },
  {
   "cell_type": "code",
   "execution_count": 61,
   "id": "030f070d",
   "metadata": {},
   "outputs": [
    {
     "name": "stdout",
     "output_type": "stream",
     "text": [
      "\n",
      "Number of missing values:\n",
      "Date                  0\n",
      "Store ID              0\n",
      "Product ID            0\n",
      "Category              0\n",
      "Region                0\n",
      "Inventory Level       0\n",
      "Units Sold            0\n",
      "Units Ordered         0\n",
      "Demand Forecast       0\n",
      "Price                 0\n",
      "Discount              0\n",
      "Weather Condition     0\n",
      "Holiday/Promotion     0\n",
      "Competitor Pricing    0\n",
      "Seasonality           0\n",
      "dtype: int64\n",
      "\n",
      "Number of duplicated values: 0\n"
     ]
    }
   ],
   "source": [
    "print(f\"\\nNumber of missing values:\\n{df.isnull().sum()}\\n\")\n",
    "print(f\"Number of duplicated values: {df.duplicated().sum()}\")"
   ]
  }
 ],
 "metadata": {
  "kernelspec": {
   "display_name": "Python 3",
   "language": "python",
   "name": "python3"
  },
  "language_info": {
   "codemirror_mode": {
    "name": "ipython",
    "version": 3
   },
   "file_extension": ".py",
   "mimetype": "text/x-python",
   "name": "python",
   "nbconvert_exporter": "python",
   "pygments_lexer": "ipython3",
   "version": "3.12.5"
  }
 },
 "nbformat": 4,
 "nbformat_minor": 5
}
